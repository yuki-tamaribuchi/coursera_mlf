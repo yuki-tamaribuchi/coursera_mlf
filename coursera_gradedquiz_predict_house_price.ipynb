{
  "nbformat": 4,
  "nbformat_minor": 0,
  "metadata": {
    "colab": {
      "name": "coursera_gradedquiz_predict_house_price.ipynb",
      "provenance": [],
      "mount_file_id": "12LFhn_LXdebRsm6odcCfvqkqM-1X-9th",
      "authorship_tag": "ABX9TyNSoKJQ2Gd8JRQ/xW4JgaE8",
      "include_colab_link": true
    },
    "kernelspec": {
      "name": "python3",
      "display_name": "Python 3"
    }
  },
  "cells": [
    {
      "cell_type": "markdown",
      "metadata": {
        "id": "view-in-github",
        "colab_type": "text"
      },
      "source": [
        "<a href=\"https://colab.research.google.com/github/yuki-tamaribuchi/coursera_mlf/blob/master/coursera_gradedquiz_predict_house_price.ipynb\" target=\"_parent\"><img src=\"https://colab.research.google.com/assets/colab-badge.svg\" alt=\"Open In Colab\"/></a>"
      ]
    },
    {
      "cell_type": "code",
      "metadata": {
        "colab": {
          "base_uri": "https://localhost:8080/"
        },
        "id": "9tlIU-8VLX-2",
        "outputId": "169c50bd-41a4-435c-df4b-9bb3002b041d"
      },
      "source": [
        "pip install turicreate"
      ],
      "execution_count": null,
      "outputs": [
        {
          "output_type": "stream",
          "text": [
            "Requirement already satisfied: turicreate in /usr/local/lib/python3.6/dist-packages (6.4.1)\n",
            "\u001b[31mERROR: Could not find a version that satisfies the requirement graphlab (from versions: none)\u001b[0m\n",
            "\u001b[31mERROR: No matching distribution found for graphlab\u001b[0m\n"
          ],
          "name": "stdout"
        }
      ]
    },
    {
      "cell_type": "code",
      "metadata": {
        "id": "hKCPwJ7kM8lT"
      },
      "source": [
        "import turicreate"
      ],
      "execution_count": null,
      "outputs": []
    },
    {
      "cell_type": "code",
      "metadata": {
        "id": "fhSni9qNMmR1"
      },
      "source": [
        "sales=turicreate.SFrame('/content/drive/MyDrive/coursera_ml_data/reg_home/home_data.sframe/home_data.sframe')"
      ],
      "execution_count": null,
      "outputs": []
    },
    {
      "cell_type": "code",
      "metadata": {
        "id": "TcXHmJ2sNW-q"
      },
      "source": [
        "sales_df=sales.to_dataframe()"
      ],
      "execution_count": null,
      "outputs": []
    },
    {
      "cell_type": "code",
      "metadata": {
        "colab": {
          "base_uri": "https://localhost:8080/",
          "height": 617
        },
        "id": "Fcvqx7gJOHx8",
        "outputId": "678bbbea-e365-41e4-a45c-d4cdb91c3fa5"
      },
      "source": [
        "sales_df"
      ],
      "execution_count": null,
      "outputs": [
        {
          "output_type": "execute_result",
          "data": {
            "text/html": [
              "<div>\n",
              "<style scoped>\n",
              "    .dataframe tbody tr th:only-of-type {\n",
              "        vertical-align: middle;\n",
              "    }\n",
              "\n",
              "    .dataframe tbody tr th {\n",
              "        vertical-align: top;\n",
              "    }\n",
              "\n",
              "    .dataframe thead th {\n",
              "        text-align: right;\n",
              "    }\n",
              "</style>\n",
              "<table border=\"1\" class=\"dataframe\">\n",
              "  <thead>\n",
              "    <tr style=\"text-align: right;\">\n",
              "      <th></th>\n",
              "      <th>id</th>\n",
              "      <th>date</th>\n",
              "      <th>price</th>\n",
              "      <th>bedrooms</th>\n",
              "      <th>bathrooms</th>\n",
              "      <th>sqft_living</th>\n",
              "      <th>sqft_lot</th>\n",
              "      <th>floors</th>\n",
              "      <th>waterfront</th>\n",
              "      <th>view</th>\n",
              "      <th>condition</th>\n",
              "      <th>grade</th>\n",
              "      <th>sqft_above</th>\n",
              "      <th>sqft_basement</th>\n",
              "      <th>yr_built</th>\n",
              "      <th>yr_renovated</th>\n",
              "      <th>zipcode</th>\n",
              "      <th>lat</th>\n",
              "      <th>long</th>\n",
              "      <th>sqft_living15</th>\n",
              "      <th>sqft_lot15</th>\n",
              "    </tr>\n",
              "  </thead>\n",
              "  <tbody>\n",
              "    <tr>\n",
              "      <th>0</th>\n",
              "      <td>7129300520</td>\n",
              "      <td>2014-10-13 00:00:00+00:00</td>\n",
              "      <td>221900.0</td>\n",
              "      <td>3.0</td>\n",
              "      <td>1.00</td>\n",
              "      <td>1180.0</td>\n",
              "      <td>5650.0</td>\n",
              "      <td>1.0</td>\n",
              "      <td>0</td>\n",
              "      <td>0</td>\n",
              "      <td>3</td>\n",
              "      <td>7.0</td>\n",
              "      <td>1180.0</td>\n",
              "      <td>0.0</td>\n",
              "      <td>1955.0</td>\n",
              "      <td>0.0</td>\n",
              "      <td>98178</td>\n",
              "      <td>47.511234</td>\n",
              "      <td>-122.256775</td>\n",
              "      <td>1340.0</td>\n",
              "      <td>5650.0</td>\n",
              "    </tr>\n",
              "    <tr>\n",
              "      <th>1</th>\n",
              "      <td>6414100192</td>\n",
              "      <td>2014-12-09 00:00:00+00:00</td>\n",
              "      <td>538000.0</td>\n",
              "      <td>3.0</td>\n",
              "      <td>2.25</td>\n",
              "      <td>2570.0</td>\n",
              "      <td>7242.0</td>\n",
              "      <td>2.0</td>\n",
              "      <td>0</td>\n",
              "      <td>0</td>\n",
              "      <td>3</td>\n",
              "      <td>7.0</td>\n",
              "      <td>2170.0</td>\n",
              "      <td>400.0</td>\n",
              "      <td>1951.0</td>\n",
              "      <td>1991.0</td>\n",
              "      <td>98125</td>\n",
              "      <td>47.721023</td>\n",
              "      <td>-122.318862</td>\n",
              "      <td>1690.0</td>\n",
              "      <td>7639.0</td>\n",
              "    </tr>\n",
              "    <tr>\n",
              "      <th>2</th>\n",
              "      <td>5631500400</td>\n",
              "      <td>2015-02-25 00:00:00+00:00</td>\n",
              "      <td>180000.0</td>\n",
              "      <td>2.0</td>\n",
              "      <td>1.00</td>\n",
              "      <td>770.0</td>\n",
              "      <td>10000.0</td>\n",
              "      <td>1.0</td>\n",
              "      <td>0</td>\n",
              "      <td>0</td>\n",
              "      <td>3</td>\n",
              "      <td>6.0</td>\n",
              "      <td>770.0</td>\n",
              "      <td>0.0</td>\n",
              "      <td>1933.0</td>\n",
              "      <td>0.0</td>\n",
              "      <td>98028</td>\n",
              "      <td>47.737927</td>\n",
              "      <td>-122.233196</td>\n",
              "      <td>2720.0</td>\n",
              "      <td>8062.0</td>\n",
              "    </tr>\n",
              "    <tr>\n",
              "      <th>3</th>\n",
              "      <td>2487200875</td>\n",
              "      <td>2014-12-09 00:00:00+00:00</td>\n",
              "      <td>604000.0</td>\n",
              "      <td>4.0</td>\n",
              "      <td>3.00</td>\n",
              "      <td>1960.0</td>\n",
              "      <td>5000.0</td>\n",
              "      <td>1.0</td>\n",
              "      <td>0</td>\n",
              "      <td>0</td>\n",
              "      <td>5</td>\n",
              "      <td>7.0</td>\n",
              "      <td>1050.0</td>\n",
              "      <td>910.0</td>\n",
              "      <td>1965.0</td>\n",
              "      <td>0.0</td>\n",
              "      <td>98136</td>\n",
              "      <td>47.520820</td>\n",
              "      <td>-122.393185</td>\n",
              "      <td>1360.0</td>\n",
              "      <td>5000.0</td>\n",
              "    </tr>\n",
              "    <tr>\n",
              "      <th>4</th>\n",
              "      <td>1954400510</td>\n",
              "      <td>2015-02-18 00:00:00+00:00</td>\n",
              "      <td>510000.0</td>\n",
              "      <td>3.0</td>\n",
              "      <td>2.00</td>\n",
              "      <td>1680.0</td>\n",
              "      <td>8080.0</td>\n",
              "      <td>1.0</td>\n",
              "      <td>0</td>\n",
              "      <td>0</td>\n",
              "      <td>3</td>\n",
              "      <td>8.0</td>\n",
              "      <td>1680.0</td>\n",
              "      <td>0.0</td>\n",
              "      <td>1987.0</td>\n",
              "      <td>0.0</td>\n",
              "      <td>98074</td>\n",
              "      <td>47.616812</td>\n",
              "      <td>-122.044901</td>\n",
              "      <td>1800.0</td>\n",
              "      <td>7503.0</td>\n",
              "    </tr>\n",
              "    <tr>\n",
              "      <th>...</th>\n",
              "      <td>...</td>\n",
              "      <td>...</td>\n",
              "      <td>...</td>\n",
              "      <td>...</td>\n",
              "      <td>...</td>\n",
              "      <td>...</td>\n",
              "      <td>...</td>\n",
              "      <td>...</td>\n",
              "      <td>...</td>\n",
              "      <td>...</td>\n",
              "      <td>...</td>\n",
              "      <td>...</td>\n",
              "      <td>...</td>\n",
              "      <td>...</td>\n",
              "      <td>...</td>\n",
              "      <td>...</td>\n",
              "      <td>...</td>\n",
              "      <td>...</td>\n",
              "      <td>...</td>\n",
              "      <td>...</td>\n",
              "      <td>...</td>\n",
              "    </tr>\n",
              "    <tr>\n",
              "      <th>21608</th>\n",
              "      <td>0263000018</td>\n",
              "      <td>2014-05-21 00:00:00+00:00</td>\n",
              "      <td>360000.0</td>\n",
              "      <td>3.0</td>\n",
              "      <td>2.50</td>\n",
              "      <td>1530.0</td>\n",
              "      <td>1131.0</td>\n",
              "      <td>3.0</td>\n",
              "      <td>0</td>\n",
              "      <td>0</td>\n",
              "      <td>3</td>\n",
              "      <td>8.0</td>\n",
              "      <td>1530.0</td>\n",
              "      <td>0.0</td>\n",
              "      <td>2009.0</td>\n",
              "      <td>0.0</td>\n",
              "      <td>98103</td>\n",
              "      <td>47.699285</td>\n",
              "      <td>-122.346105</td>\n",
              "      <td>1530.0</td>\n",
              "      <td>1509.0</td>\n",
              "    </tr>\n",
              "    <tr>\n",
              "      <th>21609</th>\n",
              "      <td>6600060120</td>\n",
              "      <td>2015-02-23 00:00:00+00:00</td>\n",
              "      <td>400000.0</td>\n",
              "      <td>4.0</td>\n",
              "      <td>2.50</td>\n",
              "      <td>2310.0</td>\n",
              "      <td>5813.0</td>\n",
              "      <td>2.0</td>\n",
              "      <td>0</td>\n",
              "      <td>0</td>\n",
              "      <td>3</td>\n",
              "      <td>8.0</td>\n",
              "      <td>2310.0</td>\n",
              "      <td>0.0</td>\n",
              "      <td>2014.0</td>\n",
              "      <td>0.0</td>\n",
              "      <td>98146</td>\n",
              "      <td>47.510733</td>\n",
              "      <td>-122.361867</td>\n",
              "      <td>1830.0</td>\n",
              "      <td>7200.0</td>\n",
              "    </tr>\n",
              "    <tr>\n",
              "      <th>21610</th>\n",
              "      <td>1523300141</td>\n",
              "      <td>2014-06-23 00:00:00+00:00</td>\n",
              "      <td>402101.0</td>\n",
              "      <td>2.0</td>\n",
              "      <td>0.75</td>\n",
              "      <td>1020.0</td>\n",
              "      <td>1350.0</td>\n",
              "      <td>2.0</td>\n",
              "      <td>0</td>\n",
              "      <td>0</td>\n",
              "      <td>3</td>\n",
              "      <td>7.0</td>\n",
              "      <td>1020.0</td>\n",
              "      <td>0.0</td>\n",
              "      <td>2009.0</td>\n",
              "      <td>0.0</td>\n",
              "      <td>98144</td>\n",
              "      <td>47.594358</td>\n",
              "      <td>-122.298654</td>\n",
              "      <td>1020.0</td>\n",
              "      <td>2007.0</td>\n",
              "    </tr>\n",
              "    <tr>\n",
              "      <th>21611</th>\n",
              "      <td>0291310100</td>\n",
              "      <td>2015-01-16 00:00:00+00:00</td>\n",
              "      <td>400000.0</td>\n",
              "      <td>3.0</td>\n",
              "      <td>2.50</td>\n",
              "      <td>1600.0</td>\n",
              "      <td>2388.0</td>\n",
              "      <td>2.0</td>\n",
              "      <td>0</td>\n",
              "      <td>0</td>\n",
              "      <td>3</td>\n",
              "      <td>8.0</td>\n",
              "      <td>1600.0</td>\n",
              "      <td>0.0</td>\n",
              "      <td>2004.0</td>\n",
              "      <td>0.0</td>\n",
              "      <td>98027</td>\n",
              "      <td>47.534499</td>\n",
              "      <td>-122.069087</td>\n",
              "      <td>1410.0</td>\n",
              "      <td>1287.0</td>\n",
              "    </tr>\n",
              "    <tr>\n",
              "      <th>21612</th>\n",
              "      <td>1523300157</td>\n",
              "      <td>2014-10-15 00:00:00+00:00</td>\n",
              "      <td>325000.0</td>\n",
              "      <td>2.0</td>\n",
              "      <td>0.75</td>\n",
              "      <td>1020.0</td>\n",
              "      <td>1076.0</td>\n",
              "      <td>2.0</td>\n",
              "      <td>0</td>\n",
              "      <td>0</td>\n",
              "      <td>3</td>\n",
              "      <td>7.0</td>\n",
              "      <td>1020.0</td>\n",
              "      <td>0.0</td>\n",
              "      <td>2008.0</td>\n",
              "      <td>0.0</td>\n",
              "      <td>98144</td>\n",
              "      <td>47.594059</td>\n",
              "      <td>-122.298635</td>\n",
              "      <td>1020.0</td>\n",
              "      <td>1357.0</td>\n",
              "    </tr>\n",
              "  </tbody>\n",
              "</table>\n",
              "<p>21613 rows × 21 columns</p>\n",
              "</div>"
            ],
            "text/plain": [
              "               id                       date  ...  sqft_living15  sqft_lot15\n",
              "0      7129300520  2014-10-13 00:00:00+00:00  ...         1340.0      5650.0\n",
              "1      6414100192  2014-12-09 00:00:00+00:00  ...         1690.0      7639.0\n",
              "2      5631500400  2015-02-25 00:00:00+00:00  ...         2720.0      8062.0\n",
              "3      2487200875  2014-12-09 00:00:00+00:00  ...         1360.0      5000.0\n",
              "4      1954400510  2015-02-18 00:00:00+00:00  ...         1800.0      7503.0\n",
              "...           ...                        ...  ...            ...         ...\n",
              "21608  0263000018  2014-05-21 00:00:00+00:00  ...         1530.0      1509.0\n",
              "21609  6600060120  2015-02-23 00:00:00+00:00  ...         1830.0      7200.0\n",
              "21610  1523300141  2014-06-23 00:00:00+00:00  ...         1020.0      2007.0\n",
              "21611  0291310100  2015-01-16 00:00:00+00:00  ...         1410.0      1287.0\n",
              "21612  1523300157  2014-10-15 00:00:00+00:00  ...         1020.0      1357.0\n",
              "\n",
              "[21613 rows x 21 columns]"
            ]
          },
          "metadata": {
            "tags": []
          },
          "execution_count": 17
        }
      ]
    },
    {
      "cell_type": "code",
      "metadata": {
        "id": "rzA6zbeZPRPh"
      },
      "source": [
        "import pandas as pd\n",
        "pd.options.display.float_format = '{:.10f}'.format"
      ],
      "execution_count": null,
      "outputs": []
    },
    {
      "cell_type": "code",
      "metadata": {
        "colab": {
          "base_uri": "https://localhost:8080/"
        },
        "id": "vMqqvbM8PV91",
        "outputId": "8d677e3c-68d3-4b42-e6d9-c5ef1b4181e3"
      },
      "source": [
        "sales_df['zipcode'].unique()"
      ],
      "execution_count": null,
      "outputs": [
        {
          "output_type": "execute_result",
          "data": {
            "text/plain": [
              "array(['98178', '98125', '98028', '98136', '98074', '98053', '98003',\n",
              "       '98198', '98146', '98038', '98007', '98115', '98107', '98126',\n",
              "       '98019', '98103', '98002', '98133', '98040', '98092', '98030',\n",
              "       '98119', '98112', '98052', '98027', '98117', '98058', '98001',\n",
              "       '98056', '98166', '98023', '98070', '98148', '98105', '98042',\n",
              "       '98008', '98059', '98122', '98144', '98004', '98005', '98034',\n",
              "       '98075', '98116', '98010', '98118', '98199', '98032', '98045',\n",
              "       '98102', '98077', '98108', '98168', '98177', '98065', '98029',\n",
              "       '98006', '98109', '98022', '98033', '98155', '98024', '98011',\n",
              "       '98031', '98106', '98072', '98188', '98014', '98055', '98039'],\n",
              "      dtype=object)"
            ]
          },
          "metadata": {
            "tags": []
          },
          "execution_count": 19
        }
      ]
    },
    {
      "cell_type": "code",
      "metadata": {
        "id": "Xtff8L8tT7Ty"
      },
      "source": [
        "mean_price_by_zipcode=sales_df.groupby('zipcode')['price'].mean()"
      ],
      "execution_count": null,
      "outputs": []
    },
    {
      "cell_type": "code",
      "metadata": {
        "colab": {
          "base_uri": "https://localhost:8080/"
        },
        "id": "fsnk2lJ1VjRT",
        "outputId": "58f85eb1-4d68-434b-ca21-4f2558afd994"
      },
      "source": [
        "mean_price_by_zipcode.sort_values(ascending=False)"
      ],
      "execution_count": null,
      "outputs": [
        {
          "output_type": "execute_result",
          "data": {
            "text/plain": [
              "zipcode\n",
              "98039   2160606.6000000001\n",
              "98004   1355927.0977917982\n",
              "98040   1194230.0035460992\n",
              "98112   1095499.3680297397\n",
              "98102    901258.2380952381\n",
              "               ...        \n",
              "98148    284908.5964912281\n",
              "98001    280804.6906077348\n",
              "98032    251296.2400000000\n",
              "98168    240328.3717472119\n",
              "98002    234284.0351758794\n",
              "Name: price, Length: 70, dtype: float64"
            ]
          },
          "metadata": {
            "tags": []
          },
          "execution_count": 30
        }
      ]
    },
    {
      "cell_type": "code",
      "metadata": {
        "id": "y2t5ZPveV8Wc"
      },
      "source": [
        "living_space_bw_2k_4k=sales_df[(sales_df['sqft_living']>= 2000.0)&(sales_df['sqft_living']<=4000.0)]"
      ],
      "execution_count": null,
      "outputs": []
    },
    {
      "cell_type": "code",
      "metadata": {
        "colab": {
          "base_uri": "https://localhost:8080/",
          "height": 617
        },
        "id": "SUD0jN4HXHDt",
        "outputId": "47970edf-1b9c-4d66-c649-96927d417479"
      },
      "source": [
        "living_space_bw_2k_4k"
      ],
      "execution_count": null,
      "outputs": [
        {
          "output_type": "execute_result",
          "data": {
            "text/html": [
              "<div>\n",
              "<style scoped>\n",
              "    .dataframe tbody tr th:only-of-type {\n",
              "        vertical-align: middle;\n",
              "    }\n",
              "\n",
              "    .dataframe tbody tr th {\n",
              "        vertical-align: top;\n",
              "    }\n",
              "\n",
              "    .dataframe thead th {\n",
              "        text-align: right;\n",
              "    }\n",
              "</style>\n",
              "<table border=\"1\" class=\"dataframe\">\n",
              "  <thead>\n",
              "    <tr style=\"text-align: right;\">\n",
              "      <th></th>\n",
              "      <th>id</th>\n",
              "      <th>date</th>\n",
              "      <th>price</th>\n",
              "      <th>bedrooms</th>\n",
              "      <th>bathrooms</th>\n",
              "      <th>sqft_living</th>\n",
              "      <th>sqft_lot</th>\n",
              "      <th>floors</th>\n",
              "      <th>waterfront</th>\n",
              "      <th>view</th>\n",
              "      <th>condition</th>\n",
              "      <th>grade</th>\n",
              "      <th>sqft_above</th>\n",
              "      <th>sqft_basement</th>\n",
              "      <th>yr_built</th>\n",
              "      <th>yr_renovated</th>\n",
              "      <th>zipcode</th>\n",
              "      <th>lat</th>\n",
              "      <th>long</th>\n",
              "      <th>sqft_living15</th>\n",
              "      <th>sqft_lot15</th>\n",
              "    </tr>\n",
              "  </thead>\n",
              "  <tbody>\n",
              "    <tr>\n",
              "      <th>1</th>\n",
              "      <td>6414100192</td>\n",
              "      <td>2014-12-09 00:00:00+00:00</td>\n",
              "      <td>538000.0000000000</td>\n",
              "      <td>3.0000000000</td>\n",
              "      <td>2.2500000000</td>\n",
              "      <td>2570.0000000000</td>\n",
              "      <td>7242.0000000000</td>\n",
              "      <td>2.0000000000</td>\n",
              "      <td>0</td>\n",
              "      <td>0</td>\n",
              "      <td>3</td>\n",
              "      <td>7.0000000000</td>\n",
              "      <td>2170.0000000000</td>\n",
              "      <td>400.0000000000</td>\n",
              "      <td>1951.0000000000</td>\n",
              "      <td>1991.0000000000</td>\n",
              "      <td>98125</td>\n",
              "      <td>47.7210227400</td>\n",
              "      <td>-122.3188624000</td>\n",
              "      <td>1690.0000000000</td>\n",
              "      <td>7639.0000000000</td>\n",
              "    </tr>\n",
              "    <tr>\n",
              "      <th>10</th>\n",
              "      <td>1736800520</td>\n",
              "      <td>2015-04-03 00:00:00+00:00</td>\n",
              "      <td>662500.0000000000</td>\n",
              "      <td>3.0000000000</td>\n",
              "      <td>2.5000000000</td>\n",
              "      <td>3560.0000000000</td>\n",
              "      <td>9796.0000000000</td>\n",
              "      <td>1.0000000000</td>\n",
              "      <td>0</td>\n",
              "      <td>0</td>\n",
              "      <td>3</td>\n",
              "      <td>8.0000000000</td>\n",
              "      <td>1860.0000000000</td>\n",
              "      <td>1700.0000000000</td>\n",
              "      <td>1965.0000000000</td>\n",
              "      <td>0.0000000000</td>\n",
              "      <td>98007</td>\n",
              "      <td>47.6006599300</td>\n",
              "      <td>-122.1452956600</td>\n",
              "      <td>2210.0000000000</td>\n",
              "      <td>8925.0000000000</td>\n",
              "    </tr>\n",
              "    <tr>\n",
              "      <th>15</th>\n",
              "      <td>9297300055</td>\n",
              "      <td>2015-01-24 00:00:00+00:00</td>\n",
              "      <td>650000.0000000000</td>\n",
              "      <td>4.0000000000</td>\n",
              "      <td>3.0000000000</td>\n",
              "      <td>2950.0000000000</td>\n",
              "      <td>5000.0000000000</td>\n",
              "      <td>2.0000000000</td>\n",
              "      <td>0</td>\n",
              "      <td>3</td>\n",
              "      <td>3</td>\n",
              "      <td>9.0000000000</td>\n",
              "      <td>1980.0000000000</td>\n",
              "      <td>970.0000000000</td>\n",
              "      <td>1979.0000000000</td>\n",
              "      <td>0.0000000000</td>\n",
              "      <td>98126</td>\n",
              "      <td>47.5713695500</td>\n",
              "      <td>-122.3754121800</td>\n",
              "      <td>2140.0000000000</td>\n",
              "      <td>4000.0000000000</td>\n",
              "    </tr>\n",
              "    <tr>\n",
              "      <th>21</th>\n",
              "      <td>2524049179</td>\n",
              "      <td>2014-08-26 00:00:00+00:00</td>\n",
              "      <td>2000000.0000000000</td>\n",
              "      <td>3.0000000000</td>\n",
              "      <td>2.7500000000</td>\n",
              "      <td>3050.0000000000</td>\n",
              "      <td>44867.0000000000</td>\n",
              "      <td>1.0000000000</td>\n",
              "      <td>0</td>\n",
              "      <td>4</td>\n",
              "      <td>3</td>\n",
              "      <td>9.0000000000</td>\n",
              "      <td>2330.0000000000</td>\n",
              "      <td>720.0000000000</td>\n",
              "      <td>1968.0000000000</td>\n",
              "      <td>0.0000000000</td>\n",
              "      <td>98040</td>\n",
              "      <td>47.5316437900</td>\n",
              "      <td>-122.2334588100</td>\n",
              "      <td>4110.0000000000</td>\n",
              "      <td>20336.0000000000</td>\n",
              "    </tr>\n",
              "    <tr>\n",
              "      <th>22</th>\n",
              "      <td>7137970340</td>\n",
              "      <td>2014-07-03 00:00:00+00:00</td>\n",
              "      <td>285000.0000000000</td>\n",
              "      <td>5.0000000000</td>\n",
              "      <td>2.5000000000</td>\n",
              "      <td>2270.0000000000</td>\n",
              "      <td>6300.0000000000</td>\n",
              "      <td>2.0000000000</td>\n",
              "      <td>0</td>\n",
              "      <td>0</td>\n",
              "      <td>3</td>\n",
              "      <td>8.0000000000</td>\n",
              "      <td>2270.0000000000</td>\n",
              "      <td>0.0000000000</td>\n",
              "      <td>1995.0000000000</td>\n",
              "      <td>0.0000000000</td>\n",
              "      <td>98092</td>\n",
              "      <td>47.3265807100</td>\n",
              "      <td>-122.1689262400</td>\n",
              "      <td>2240.0000000000</td>\n",
              "      <td>7005.0000000000</td>\n",
              "    </tr>\n",
              "    <tr>\n",
              "      <th>...</th>\n",
              "      <td>...</td>\n",
              "      <td>...</td>\n",
              "      <td>...</td>\n",
              "      <td>...</td>\n",
              "      <td>...</td>\n",
              "      <td>...</td>\n",
              "      <td>...</td>\n",
              "      <td>...</td>\n",
              "      <td>...</td>\n",
              "      <td>...</td>\n",
              "      <td>...</td>\n",
              "      <td>...</td>\n",
              "      <td>...</td>\n",
              "      <td>...</td>\n",
              "      <td>...</td>\n",
              "      <td>...</td>\n",
              "      <td>...</td>\n",
              "      <td>...</td>\n",
              "      <td>...</td>\n",
              "      <td>...</td>\n",
              "      <td>...</td>\n",
              "    </tr>\n",
              "    <tr>\n",
              "      <th>21599</th>\n",
              "      <td>7202300110</td>\n",
              "      <td>2014-09-15 00:00:00+00:00</td>\n",
              "      <td>810000.0000000000</td>\n",
              "      <td>4.0000000000</td>\n",
              "      <td>3.0000000000</td>\n",
              "      <td>3990.0000000000</td>\n",
              "      <td>7838.0000000000</td>\n",
              "      <td>2.0000000000</td>\n",
              "      <td>0</td>\n",
              "      <td>0</td>\n",
              "      <td>3</td>\n",
              "      <td>9.0000000000</td>\n",
              "      <td>3990.0000000000</td>\n",
              "      <td>0.0000000000</td>\n",
              "      <td>2003.0000000000</td>\n",
              "      <td>0.0000000000</td>\n",
              "      <td>98053</td>\n",
              "      <td>47.6856961000</td>\n",
              "      <td>-122.0458519400</td>\n",
              "      <td>3370.0000000000</td>\n",
              "      <td>6814.0000000000</td>\n",
              "    </tr>\n",
              "    <tr>\n",
              "      <th>21603</th>\n",
              "      <td>7852140040</td>\n",
              "      <td>2014-08-25 00:00:00+00:00</td>\n",
              "      <td>507250.0000000000</td>\n",
              "      <td>3.0000000000</td>\n",
              "      <td>2.5000000000</td>\n",
              "      <td>2270.0000000000</td>\n",
              "      <td>5536.0000000000</td>\n",
              "      <td>2.0000000000</td>\n",
              "      <td>0</td>\n",
              "      <td>0</td>\n",
              "      <td>3</td>\n",
              "      <td>8.0000000000</td>\n",
              "      <td>2270.0000000000</td>\n",
              "      <td>0.0000000000</td>\n",
              "      <td>2003.0000000000</td>\n",
              "      <td>0.0000000000</td>\n",
              "      <td>98065</td>\n",
              "      <td>47.5388863100</td>\n",
              "      <td>-121.8812136400</td>\n",
              "      <td>2270.0000000000</td>\n",
              "      <td>5731.0000000000</td>\n",
              "    </tr>\n",
              "    <tr>\n",
              "      <th>21605</th>\n",
              "      <td>3448900210</td>\n",
              "      <td>2014-10-14 00:00:00+00:00</td>\n",
              "      <td>610685.0000000000</td>\n",
              "      <td>4.0000000000</td>\n",
              "      <td>2.5000000000</td>\n",
              "      <td>2520.0000000000</td>\n",
              "      <td>6023.0000000000</td>\n",
              "      <td>2.0000000000</td>\n",
              "      <td>0</td>\n",
              "      <td>0</td>\n",
              "      <td>3</td>\n",
              "      <td>9.0000000000</td>\n",
              "      <td>2520.0000000000</td>\n",
              "      <td>0.0000000000</td>\n",
              "      <td>2014.0000000000</td>\n",
              "      <td>0.0000000000</td>\n",
              "      <td>98056</td>\n",
              "      <td>47.5136738700</td>\n",
              "      <td>-122.1674216000</td>\n",
              "      <td>2520.0000000000</td>\n",
              "      <td>6023.0000000000</td>\n",
              "    </tr>\n",
              "    <tr>\n",
              "      <th>21606</th>\n",
              "      <td>7936000429</td>\n",
              "      <td>2015-03-26 00:00:00+00:00</td>\n",
              "      <td>1007500.0000000000</td>\n",
              "      <td>4.0000000000</td>\n",
              "      <td>3.5000000000</td>\n",
              "      <td>3510.0000000000</td>\n",
              "      <td>7200.0000000000</td>\n",
              "      <td>2.0000000000</td>\n",
              "      <td>0</td>\n",
              "      <td>0</td>\n",
              "      <td>3</td>\n",
              "      <td>9.0000000000</td>\n",
              "      <td>2600.0000000000</td>\n",
              "      <td>910.0000000000</td>\n",
              "      <td>2009.0000000000</td>\n",
              "      <td>0.0000000000</td>\n",
              "      <td>98136</td>\n",
              "      <td>47.5537184700</td>\n",
              "      <td>-122.3982087900</td>\n",
              "      <td>2050.0000000000</td>\n",
              "      <td>6200.0000000000</td>\n",
              "    </tr>\n",
              "    <tr>\n",
              "      <th>21609</th>\n",
              "      <td>6600060120</td>\n",
              "      <td>2015-02-23 00:00:00+00:00</td>\n",
              "      <td>400000.0000000000</td>\n",
              "      <td>4.0000000000</td>\n",
              "      <td>2.5000000000</td>\n",
              "      <td>2310.0000000000</td>\n",
              "      <td>5813.0000000000</td>\n",
              "      <td>2.0000000000</td>\n",
              "      <td>0</td>\n",
              "      <td>0</td>\n",
              "      <td>3</td>\n",
              "      <td>8.0000000000</td>\n",
              "      <td>2310.0000000000</td>\n",
              "      <td>0.0000000000</td>\n",
              "      <td>2014.0000000000</td>\n",
              "      <td>0.0000000000</td>\n",
              "      <td>98146</td>\n",
              "      <td>47.5107327900</td>\n",
              "      <td>-122.3618672800</td>\n",
              "      <td>1830.0000000000</td>\n",
              "      <td>7200.0000000000</td>\n",
              "    </tr>\n",
              "  </tbody>\n",
              "</table>\n",
              "<p>9221 rows × 21 columns</p>\n",
              "</div>"
            ],
            "text/plain": [
              "               id                       date  ...   sqft_living15       sqft_lot15\n",
              "1      6414100192  2014-12-09 00:00:00+00:00  ... 1690.0000000000  7639.0000000000\n",
              "10     1736800520  2015-04-03 00:00:00+00:00  ... 2210.0000000000  8925.0000000000\n",
              "15     9297300055  2015-01-24 00:00:00+00:00  ... 2140.0000000000  4000.0000000000\n",
              "21     2524049179  2014-08-26 00:00:00+00:00  ... 4110.0000000000 20336.0000000000\n",
              "22     7137970340  2014-07-03 00:00:00+00:00  ... 2240.0000000000  7005.0000000000\n",
              "...           ...                        ...  ...             ...              ...\n",
              "21599  7202300110  2014-09-15 00:00:00+00:00  ... 3370.0000000000  6814.0000000000\n",
              "21603  7852140040  2014-08-25 00:00:00+00:00  ... 2270.0000000000  5731.0000000000\n",
              "21605  3448900210  2014-10-14 00:00:00+00:00  ... 2520.0000000000  6023.0000000000\n",
              "21606  7936000429  2015-03-26 00:00:00+00:00  ... 2050.0000000000  6200.0000000000\n",
              "21609  6600060120  2015-02-23 00:00:00+00:00  ... 1830.0000000000  7200.0000000000\n",
              "\n",
              "[9221 rows x 21 columns]"
            ]
          },
          "metadata": {
            "tags": []
          },
          "execution_count": 33
        }
      ]
    },
    {
      "cell_type": "code",
      "metadata": {
        "colab": {
          "base_uri": "https://localhost:8080/"
        },
        "id": "kA4YJDHCYHiF",
        "outputId": "abfd0325-059f-4439-a02e-82022ae39233"
      },
      "source": [
        "living_space_bw_2k_4k['sqft_living'].count()/sales_df.count()"
      ],
      "execution_count": null,
      "outputs": [
        {
          "output_type": "execute_result",
          "data": {
            "text/plain": [
              "id              0.4266413732\n",
              "date            0.4266413732\n",
              "price           0.4266413732\n",
              "bedrooms        0.4266413732\n",
              "bathrooms       0.4266413732\n",
              "sqft_living     0.4266413732\n",
              "sqft_lot        0.4266413732\n",
              "floors          0.4266413732\n",
              "waterfront      0.4266413732\n",
              "view            0.4266413732\n",
              "condition       0.4266413732\n",
              "grade           0.4266413732\n",
              "sqft_above      0.4266413732\n",
              "sqft_basement   0.4266413732\n",
              "yr_built        0.4266413732\n",
              "yr_renovated    0.4266413732\n",
              "zipcode         0.4266413732\n",
              "lat             0.4266413732\n",
              "long            0.4266413732\n",
              "sqft_living15   0.4266413732\n",
              "sqft_lot15      0.4266413732\n",
              "dtype: float64"
            ]
          },
          "metadata": {
            "tags": []
          },
          "execution_count": 38
        }
      ]
    },
    {
      "cell_type": "code",
      "metadata": {
        "id": "VvHhBi4OYNjc"
      },
      "source": [
        "my_features=['bathrooms']\n",
        "advanced_features=['bedrooms','bathrooms','sqft_living','sqft_lot','floors','zipcode']"
      ],
      "execution_count": null,
      "outputs": []
    },
    {
      "cell_type": "code",
      "metadata": {
        "id": "ECD-dNjQh3sj"
      },
      "source": [
        "from sklearn.model_selection import train_test_split"
      ],
      "execution_count": null,
      "outputs": []
    },
    {
      "cell_type": "code",
      "metadata": {
        "id": "YO6NZOfph9Iy"
      },
      "source": [
        "X_train,X_test,y_train,y_test=train_test_split(sales_df.drop(['price'],axis=1),sales_df['price'])"
      ],
      "execution_count": null,
      "outputs": []
    },
    {
      "cell_type": "code",
      "metadata": {
        "id": "tYliYyfVhMt0"
      },
      "source": [
        "from sklearn.linear_model import LinearRegression"
      ],
      "execution_count": null,
      "outputs": []
    },
    {
      "cell_type": "code",
      "metadata": {
        "colab": {
          "base_uri": "https://localhost:8080/"
        },
        "id": "g4UfaYvThTmo",
        "outputId": "7542d419-b4f7-498d-ec11-3b55e1368357"
      },
      "source": [
        "lin_reg1=LinearRegression()\n",
        "lin_reg1.fit(X_train[my_features],y_train)"
      ],
      "execution_count": null,
      "outputs": [
        {
          "output_type": "execute_result",
          "data": {
            "text/plain": [
              "LinearRegression(copy_X=True, fit_intercept=True, n_jobs=None, normalize=False)"
            ]
          },
          "metadata": {
            "tags": []
          },
          "execution_count": 43
        }
      ]
    },
    {
      "cell_type": "code",
      "metadata": {
        "id": "rAqCmAw1iPTH"
      },
      "source": [
        "y_pred=lin_reg1.predict(X_test[my_features])"
      ],
      "execution_count": null,
      "outputs": []
    },
    {
      "cell_type": "code",
      "metadata": {
        "id": "Zq8Sf2qliWC4"
      },
      "source": [
        "from sklearn.metrics import mean_squared_error"
      ],
      "execution_count": null,
      "outputs": []
    },
    {
      "cell_type": "code",
      "metadata": {
        "id": "Hcko-EUti-As"
      },
      "source": [
        "import numpy as np"
      ],
      "execution_count": null,
      "outputs": []
    },
    {
      "cell_type": "code",
      "metadata": {
        "colab": {
          "base_uri": "https://localhost:8080/"
        },
        "id": "akuHhHaCigbO",
        "outputId": "c492b5ec-7d59-4985-caad-2c73408d45e0"
      },
      "source": [
        "np.sqrt(mean_squared_error(y_test,y_pred))"
      ],
      "execution_count": null,
      "outputs": [
        {
          "output_type": "execute_result",
          "data": {
            "text/plain": [
              "323880.1632012841"
            ]
          },
          "metadata": {
            "tags": []
          },
          "execution_count": 50
        }
      ]
    },
    {
      "cell_type": "code",
      "metadata": {
        "id": "Er_OgaVBiw25"
      },
      "source": [
        "lin_reg2=LinearRegression()"
      ],
      "execution_count": null,
      "outputs": []
    },
    {
      "cell_type": "code",
      "metadata": {
        "colab": {
          "base_uri": "https://localhost:8080/"
        },
        "id": "S6Z9TZ2sjMEf",
        "outputId": "d09ebfc4-08fb-408b-810b-ed4554de19b8"
      },
      "source": [
        "lin_reg2.fit(X_train[advanced_features],y_train)"
      ],
      "execution_count": null,
      "outputs": [
        {
          "output_type": "execute_result",
          "data": {
            "text/plain": [
              "LinearRegression(copy_X=True, fit_intercept=True, n_jobs=None, normalize=False)"
            ]
          },
          "metadata": {
            "tags": []
          },
          "execution_count": 54
        }
      ]
    },
    {
      "cell_type": "code",
      "metadata": {
        "id": "aN-GknLbjQNQ"
      },
      "source": [
        "y_pred=lin_reg2.predict(X_test[advanced_features])"
      ],
      "execution_count": null,
      "outputs": []
    },
    {
      "cell_type": "code",
      "metadata": {
        "colab": {
          "base_uri": "https://localhost:8080/"
        },
        "id": "0q0RMhQBjaPT",
        "outputId": "b09f3a78-9bff-4151-e916-6cdae69cc433"
      },
      "source": [
        "np.sqrt(mean_squared_error(y_test,y_pred))"
      ],
      "execution_count": null,
      "outputs": [
        {
          "output_type": "execute_result",
          "data": {
            "text/plain": [
              "263127.69817296846"
            ]
          },
          "metadata": {
            "tags": []
          },
          "execution_count": 56
        }
      ]
    },
    {
      "cell_type": "code",
      "metadata": {
        "id": "nu11OFvFjjOu"
      },
      "source": [
        "#最後のは間違い\n",
        "#本来は250000以下になるはず"
      ],
      "execution_count": null,
      "outputs": []
    }
  ]
}